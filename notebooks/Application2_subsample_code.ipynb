{
 "cells": [
  {
   "cell_type": "markdown",
   "metadata": {},
   "source": [
    "This notebook is to demonstrate how DS-FDR can save cost in additional samples when discovering similar number of significant bacteria as BH method (Application II)."
   ]
  },
  {
   "cell_type": "code",
   "execution_count": 30,
   "metadata": {
    "collapsed": true
   },
   "outputs": [],
   "source": [
    "import warnings   \n",
    "warnings.simplefilter(\"ignore\") \n",
    "import matplotlib as mpl\n",
    "import matplotlib.pyplot as plt\n",
    "import pylab\n",
    "%matplotlib notebook\n",
    "\n",
    "import sys\n",
    "sys.path.append('/Users/Serene/git/Amnon/calour')\n",
    "import calour as cl\n",
    "import numpy as np\n",
    "import pandas as pd\n",
    "\n",
    "from scipy.stats import sem\n",
    "import pickle\n",
    "\n",
    "cl.set_log_level(40) # get rid of warnings in calour"
   ]
  },
  {
   "cell_type": "markdown",
   "metadata": {},
   "source": [
    "## DME"
   ]
  },
  {
   "cell_type": "code",
   "execution_count": 31,
   "metadata": {
    "collapsed": true
   },
   "outputs": [],
   "source": [
    "# read in DME dataset\n",
    "dme = cl.read_amplicon('../data/dme.biom','../data/dme.map.txt', sparse=False, filter_reads=1000, normalize=10000)\n",
    "np.random.seed(31)\n",
    "dme_sub1 = dme.filter_min_abundance(5)"
   ]
  },
  {
   "cell_type": "code",
   "execution_count": 32,
   "metadata": {},
   "outputs": [
    {
     "data": {
      "text/plain": [
       "unknown              35\n",
       "cesarean delivery    27\n",
       "vaginal delivery     17\n",
       "Name: misc_param, dtype: int64"
      ]
     },
     "execution_count": 32,
     "metadata": {},
     "output_type": "execute_result"
    }
   ],
   "source": [
    "dme_sub1.sample_metadata.misc_param.value_counts()"
   ]
  },
  {
   "cell_type": "code",
   "execution_count": 33,
   "metadata": {},
   "outputs": [
    {
     "name": "stdout",
     "output_type": "stream",
     "text": [
      "subsample...: 2\n",
      "subsample...: 4\n",
      "subsample...: 6\n",
      "subsample...: 8\n",
      "subsample...: 10\n",
      "subsample...: 12\n",
      "subsample...: 14\n",
      "subsample...: 16\n"
     ]
    }
   ],
   "source": [
    "np.random.seed(31)\n",
    "\n",
    "# set parameter for number of repetition, and subsampling size\n",
    "B = 100\n",
    "ss_dme = np.arange(2,18,2)\n",
    "\n",
    "otu_bh_dme = []\n",
    "otu_ds_dme = []\n",
    "err_bh_dme = []\n",
    "err_ds_dme = []\n",
    "\n",
    "for i in ss_dme:\n",
    "    print('subsample...: %s' %(i))\n",
    "    \n",
    "    ds_num = []\n",
    "    bh_num = []\n",
    "    for j in range(B):\n",
    "        dme_sub2 = dme_sub1.downsample('misc_param', num_keep=i)\n",
    "        \n",
    "        # apply FDR methods to subsampled dataset\n",
    "        ds = dme_sub2.diff_abundance('misc_param','cesarean delivery','vaginal delivery',fdr_method='dsfdr')\n",
    "        bh = dme_sub2.diff_abundance('misc_param','cesarean delivery','vaginal delivery',fdr_method='bhfdr')\n",
    "\n",
    "        sig_ds = len(ds.feature_metadata.index)\n",
    "        sig_bh = len(bh.feature_metadata.index)\n",
    "\n",
    "        ds_num.append(sig_ds)\n",
    "        bh_num.append(sig_bh)\n",
    "    \n",
    "    otu_ds_dme.append(np.mean(ds_num))\n",
    "    otu_bh_dme.append(np.mean(bh_num))\n",
    "    \n",
    "    err_ds_dme.append(sem(ds_num))  \n",
    "    err_bh_dme.append(sem(bh_num))"
   ]
  },
  {
   "cell_type": "code",
   "execution_count": 35,
   "metadata": {
    "collapsed": true
   },
   "outputs": [],
   "source": [
    "# store results\n",
    "with open(\"../results/dme_subsample_v2.pkl\", \"wb\") as f:\n",
    "    pickle.dump((ss_dme, otu_ds_dme, otu_bh_dme, err_ds_dme,err_bh_dme), f)"
   ]
  },
  {
   "cell_type": "markdown",
   "metadata": {},
   "source": [
    "## UKT"
   ]
  },
  {
   "cell_type": "code",
   "execution_count": 36,
   "metadata": {
    "collapsed": true
   },
   "outputs": [],
   "source": [
    "# read in UKT dataset\n",
    "ukt = cl.read_amplicon('../data/uk_twins_otu.biom','../data/uk_twins_map.txt',sparse=False, filter_reads=1000, normalize=10000)\n",
    "np.random.seed(31)\n",
    "ukt_sub1 = ukt.filter_min_abundance(5)"
   ]
  },
  {
   "cell_type": "code",
   "execution_count": 37,
   "metadata": {},
   "outputs": [
    {
     "name": "stdout",
     "output_type": "stream",
     "text": [
      "subsample...: 10\n",
      "subsample...: 20\n",
      "subsample...: 30\n",
      "subsample...: 40\n",
      "subsample...: 50\n",
      "subsample...: 60\n",
      "subsample...: 70\n",
      "subsample...: 80\n",
      "subsample...: 90\n",
      "subsample...: 100\n"
     ]
    }
   ],
   "source": [
    "np.random.seed(31)\n",
    "\n",
    "# set parameter for number of repetition, and subsampling size\n",
    "B = 100\n",
    "ss_ukt = np.arange(10,110,10)\n",
    "\n",
    "otu_bh_ukt = []\n",
    "otu_ds_ukt = []\n",
    "err_bh_ukt = []\n",
    "err_ds_ukt = []\n",
    "\n",
    "for i in ss_ukt:\n",
    "    print('subsample...: %s' %(i))\n",
    "    \n",
    "    ds_num = []\n",
    "    bh_num = []\n",
    "    for j in range(B):\n",
    "        ukt_sub2 = ukt_sub1.downsample('bmi_cat', num_keep=i)\n",
    "        \n",
    "        # apply FDR methods to subsampled dataset\n",
    "        ds = ukt_sub2.diff_abundance('bmi_cat','Lean','Obese',fdr_method='dsfdr')\n",
    "        bh = ukt_sub2.diff_abundance('bmi_cat','Lean','Obese',fdr_method='bhfdr')\n",
    "\n",
    "        sig_ds = len(ds.feature_metadata.index)\n",
    "        sig_bh = len(bh.feature_metadata.index)\n",
    "\n",
    "        ds_num.append(sig_ds)\n",
    "        bh_num.append(sig_bh)\n",
    "    \n",
    "    otu_ds_ukt.append(np.mean(ds_num))\n",
    "    otu_bh_ukt.append(np.mean(bh_num))\n",
    "    \n",
    "    err_ds_ukt.append(sem(ds_num))  \n",
    "    err_bh_ukt.append(sem(bh_num))"
   ]
  },
  {
   "cell_type": "code",
   "execution_count": 39,
   "metadata": {
    "collapsed": true
   },
   "outputs": [],
   "source": [
    "# store results\n",
    "with open(\"../results/ukt_subsample_v2.pkl\", \"wb\") as f:\n",
    "    pickle.dump((ss_ukt, otu_ds_ukt, otu_bh_ukt, err_ds_ukt, err_bh_ukt), f)"
   ]
  },
  {
   "cell_type": "markdown",
   "metadata": {},
   "source": [
    "## DIBD"
   ]
  },
  {
   "cell_type": "code",
   "execution_count": 41,
   "metadata": {
    "collapsed": true
   },
   "outputs": [],
   "source": [
    "# read in DIBD dataset\n",
    "dibd = cl.read_amplicon('../data/dibd.biom','../data/dibd.map.txt', sparse=False, filter_reads=1000, normalize=10000)\n",
    "np.random.seed(31)\n",
    "dibd_sub1 = dibd.filter_min_abundance(5)"
   ]
  },
  {
   "cell_type": "code",
   "execution_count": 42,
   "metadata": {},
   "outputs": [
    {
     "name": "stdout",
     "output_type": "stream",
     "text": [
      "subsample...: 5\n",
      "subsample...: 10\n",
      "subsample...: 15\n",
      "subsample...: 20\n",
      "subsample...: 25\n",
      "subsample...: 30\n",
      "subsample...: 35\n",
      "subsample...: 40\n",
      "subsample...: 45\n",
      "subsample...: 50\n",
      "subsample...: 55\n",
      "subsample...: 60\n",
      "subsample...: 65\n"
     ]
    }
   ],
   "source": [
    "np.random.seed(31)\n",
    "\n",
    "# set parameter for number of repetition, and subsampling size\n",
    "B = 100\n",
    "ss_dibd = np.arange(5,70,5)\n",
    "\n",
    "otu_bh_dibd = []\n",
    "otu_ds_dibd = []\n",
    "err_bh_dibd = []\n",
    "err_ds_dibd = []\n",
    "\n",
    "for i in ss_dibd:\n",
    "    print('subsample...: %s' %(i))\n",
    "    \n",
    "    ds_num = []\n",
    "    bh_num = []\n",
    "    for j in range(B):\n",
    "        dibd_sub2 = dibd_sub1.downsample('disease_stat', num_keep=i)\n",
    "        \n",
    "        # apply FDR methods to subsampled dataset\n",
    "        ds = dibd_sub2.diff_abundance('disease_stat','IBD','healthy',fdr_method='dsfdr')\n",
    "        bh = dibd_sub2.diff_abundance('disease_stat','IBD','healthy',fdr_method='bhfdr')\n",
    "\n",
    "        sig_ds = len(ds.feature_metadata.index)\n",
    "        sig_bh = len(bh.feature_metadata.index)\n",
    "\n",
    "        ds_num.append(sig_ds)\n",
    "        bh_num.append(sig_bh)\n",
    "    \n",
    "    otu_ds_dibd.append(np.mean(ds_num))\n",
    "    otu_bh_dibd.append(np.mean(bh_num))\n",
    "    \n",
    "    err_ds_dibd.append(sem(ds_num))  \n",
    "    err_bh_dibd.append(sem(bh_num))"
   ]
  },
  {
   "cell_type": "code",
   "execution_count": 43,
   "metadata": {
    "collapsed": true
   },
   "outputs": [],
   "source": [
    "# store results\n",
    "with open(\"../results/dibd_subsample_v2.pkl\", \"wb\") as f:\n",
    "    pickle.dump((ss_dibd, otu_ds_dibd, otu_bh_dibd, err_ds_dibd, err_bh_dibd), f)"
   ]
  },
  {
   "cell_type": "markdown",
   "metadata": {},
   "source": [
    "## GCD"
   ]
  },
  {
   "cell_type": "code",
   "execution_count": 45,
   "metadata": {
    "collapsed": true
   },
   "outputs": [],
   "source": [
    "# read in GCD dataset\n",
    "gcd = cl.read_amplicon('../data/gcd.biom','../data/gcd.map.txt', sparse=False, filter_reads=1000, normalize=10000)\n",
    "np.random.seed(31)\n",
    "gcd_sub1 = gcd.filter_min_abundance(5)"
   ]
  },
  {
   "cell_type": "code",
   "execution_count": 46,
   "metadata": {},
   "outputs": [
    {
     "name": "stdout",
     "output_type": "stream",
     "text": [
      "subsample...: 20\n",
      "subsample...: 40\n",
      "subsample...: 60\n",
      "subsample...: 80\n",
      "subsample...: 100\n",
      "subsample...: 120\n",
      "subsample...: 140\n",
      "subsample...: 160\n",
      "subsample...: 180\n",
      "subsample...: 200\n",
      "subsample...: 220\n",
      "subsample...: 240\n",
      "subsample...: 260\n",
      "subsample...: 280\n",
      "subsample...: 300\n",
      "subsample...: 320\n"
     ]
    }
   ],
   "source": [
    "np.random.seed(31)\n",
    "\n",
    "# set parameter for number of repetition, and subsampling size\n",
    "B = 100\n",
    "ss_gcd = np.arange(20,340,20)\n",
    "\n",
    "otu_bh_gcd = []\n",
    "otu_ds_gcd = []\n",
    "err_bh_gcd = []\n",
    "err_ds_gcd = []\n",
    "\n",
    "for i in ss_gcd:\n",
    "    print('subsample...: %s' %(i))\n",
    "    \n",
    "    ds_num = []\n",
    "    bh_num = []\n",
    "    for j in range(B):\n",
    "        gcd_sub2 = gcd_sub1.downsample('diagnosis', num_keep=i)\n",
    "        \n",
    "        # apply FDR methods to subsampled dataset\n",
    "        ds = gcd_sub2.diff_abundance('diagnosis', 'CD', 'no',fdr_method='dsfdr')\n",
    "        bh = gcd_sub2.diff_abundance('diagnosis', 'CD', 'no',fdr_method='bhfdr')\n",
    "\n",
    "        sig_ds = len(ds.feature_metadata.index)\n",
    "        sig_bh = len(bh.feature_metadata.index)\n",
    "\n",
    "        ds_num.append(sig_ds)\n",
    "        bh_num.append(sig_bh)\n",
    "    \n",
    "    otu_ds_gcd.append(np.mean(ds_num))\n",
    "    otu_bh_gcd.append(np.mean(bh_num))\n",
    "    \n",
    "    err_ds_gcd.append(sem(ds_num))  \n",
    "    err_bh_gcd.append(sem(bh_num))"
   ]
  },
  {
   "cell_type": "code",
   "execution_count": 48,
   "metadata": {
    "collapsed": true
   },
   "outputs": [],
   "source": [
    "# store results\n",
    "with open(\"../results/gcd_subsample_v2.pkl\", \"wb\") as f:\n",
    "    pickle.dump((ss_gcd, otu_ds_gcd, otu_bh_gcd, err_ds_gcd, err_bh_gcd), f)"
   ]
  },
  {
   "cell_type": "markdown",
   "metadata": {},
   "source": [
    "## American Gut"
   ]
  },
  {
   "cell_type": "code",
   "execution_count": 49,
   "metadata": {
    "collapsed": true
   },
   "outputs": [],
   "source": [
    "# read in American Gut dataset\n",
    "ag = cl.read_amplicon('../data/ag.biom','../data/ag_fecals.map.txt',sparse=False, filter_reads=1000, normalize=10000)\n",
    "np.random.seed(31)\n",
    "ag_sub1 = ag.filter_min_abundance(5) "
   ]
  },
  {
   "cell_type": "markdown",
   "metadata": {},
   "source": [
    "#### Antibiotic history"
   ]
  },
  {
   "cell_type": "code",
   "execution_count": 50,
   "metadata": {},
   "outputs": [
    {
     "name": "stdout",
     "output_type": "stream",
     "text": [
      "subsample...: 20\n",
      "subsample...: 40\n",
      "subsample...: 60\n",
      "subsample...: 80\n",
      "subsample...: 100\n",
      "subsample...: 120\n",
      "subsample...: 140\n",
      "subsample...: 160\n"
     ]
    }
   ],
   "source": [
    "np.random.seed(31)\n",
    "\n",
    "# set parameter for number of repetition, and subsampling size\n",
    "B = 100\n",
    "ss_aga = np.arange(20,180,20)\n",
    "\n",
    "otu_bh_aga = []\n",
    "otu_ds_aga = []\n",
    "err_bh_aga = []\n",
    "err_ds_aga = []\n",
    "\n",
    "for i in ss_aga:\n",
    "    print('subsample...: %s' %(i))\n",
    "    \n",
    "    ds_num = []\n",
    "    bh_num = []\n",
    "    for j in range(B):\n",
    "        ag_sub2 = ag_sub1.downsample('ANTIBIOTIC_HISTORY', num_keep=i)\n",
    "        \n",
    "        # apply FDR methods to subsampled dataset\n",
    "        ds = ag_sub2.diff_abundance('ANTIBIOTIC_HISTORY','I have not taken antibiotics in the past year.',\n",
    "                                'Week',fdr_method='dsfdr')\n",
    "        bh = ag_sub2.diff_abundance('ANTIBIOTIC_HISTORY','I have not taken antibiotics in the past year.',\n",
    "                                'Week',fdr_method='bhfdr')\n",
    "\n",
    "        sig_ds = len(ds.feature_metadata.index)\n",
    "        sig_bh = len(bh.feature_metadata.index)\n",
    "\n",
    "        ds_num.append(sig_ds)\n",
    "        bh_num.append(sig_bh)\n",
    "    \n",
    "    otu_ds_aga.append(np.mean(ds_num))\n",
    "    otu_bh_aga.append(np.mean(bh_num))\n",
    "    \n",
    "    err_ds_aga.append(sem(ds_num))  \n",
    "    err_bh_aga.append(sem(bh_num))"
   ]
  },
  {
   "cell_type": "code",
   "execution_count": 52,
   "metadata": {
    "collapsed": true
   },
   "outputs": [],
   "source": [
    "# store results\n",
    "with open(\"../results/aga_subsample_v2.pkl\", \"wb\") as f:\n",
    "    pickle.dump((ss_aga, otu_ds_aga, otu_bh_aga, err_ds_aga, err_bh_aga), f)"
   ]
  },
  {
   "cell_type": "markdown",
   "metadata": {},
   "source": [
    "#### plants numbers"
   ]
  },
  {
   "cell_type": "code",
   "execution_count": 51,
   "metadata": {},
   "outputs": [
    {
     "name": "stdout",
     "output_type": "stream",
     "text": [
      "subsample...: 50\n",
      "subsample...: 100\n",
      "subsample...: 150\n",
      "subsample...: 200\n",
      "subsample...: 250\n",
      "subsample...: 300\n",
      "subsample...: 350\n"
     ]
    }
   ],
   "source": [
    "np.random.seed(31)\n",
    "\n",
    "# set parameter for number of repetition, and subsampling size\n",
    "B = 100\n",
    "ss_agp = np.arange(50,400,50)\n",
    "\n",
    "otu_bh_agp = []\n",
    "otu_ds_agp = []\n",
    "err_bh_agp = []\n",
    "err_ds_agp = []\n",
    "\n",
    "for i in ss_agp:\n",
    "    print('subsample...: %s' %(i))\n",
    "    \n",
    "    ds_num = []\n",
    "    bh_num = []\n",
    "    for j in range(B):\n",
    "        ag_sub2 = ag_sub1.downsample('TYPES_OF_PLANTS', num_keep=i)\n",
    "        \n",
    "        # apply FDR methods to subsampled dataset\n",
    "        ds = ag_sub2.diff_abundance('TYPES_OF_PLANTS','More than 30','Less than 5',fdr_method='dsfdr')\n",
    "        bh = ag_sub2.diff_abundance('TYPES_OF_PLANTS','More than 30','Less than 5',fdr_method='bhfdr')\n",
    "\n",
    "        sig_ds = len(ds.feature_metadata.index)\n",
    "        sig_bh = len(bh.feature_metadata.index)\n",
    "\n",
    "        ds_num.append(sig_ds)\n",
    "        bh_num.append(sig_bh)\n",
    "    \n",
    "    otu_ds_agp.append(np.mean(ds_num))\n",
    "    otu_bh_agp.append(np.mean(bh_num))\n",
    "    \n",
    "    err_ds_agp.append(sem(ds_num))  \n",
    "    err_bh_agp.append(sem(bh_num))"
   ]
  },
  {
   "cell_type": "code",
   "execution_count": 54,
   "metadata": {
    "collapsed": true
   },
   "outputs": [],
   "source": [
    "# store results\n",
    "with open(\"../results/agp_subsample_v2.pkl\", \"wb\") as f:\n",
    "    pickle.dump((ss_agp, otu_ds_agp, otu_bh_agp, err_ds_agp, err_bh_agp), f)"
   ]
  }
 ],
 "metadata": {
  "anaconda-cloud": {},
  "kernelspec": {
   "display_name": "Python 3",
   "language": "python",
   "name": "python3"
  },
  "language_info": {
   "codemirror_mode": {
    "name": "ipython",
    "version": 3
   },
   "file_extension": ".py",
   "mimetype": "text/x-python",
   "name": "python",
   "nbconvert_exporter": "python",
   "pygments_lexer": "ipython3",
   "version": "3.5.3"
  }
 },
 "nbformat": 4,
 "nbformat_minor": 2
}
