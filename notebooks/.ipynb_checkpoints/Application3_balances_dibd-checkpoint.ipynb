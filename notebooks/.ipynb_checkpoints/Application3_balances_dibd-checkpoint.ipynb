{
 "cells": [
  {
   "cell_type": "markdown",
   "metadata": {},
   "source": [
    "This notebook is apply balances with DS-FDR to rarefied DIBD dataset"
   ]
  },
  {
   "cell_type": "code",
   "execution_count": 1,
   "metadata": {
    "collapsed": true
   },
   "outputs": [],
   "source": [
    "import pandas as pd\n",
    "import numpy as np\n",
    "import scipy as sp\n",
    "from skbio.stats import subsample_counts\n",
    "from biom import load_table\n",
    "from gneiss.cluster import correlation_linkage\n",
    "from gneiss.util import rename_internal_nodes, match\n",
    "from gneiss.balances import balance_basis\n",
    "from skbio.stats.composition import ilr\n",
    "import skbio\n",
    "import qiime2\n",
    "\n",
    "import dsfdr\n",
    "import statistics\n",
    "import transform\n",
    "\n",
    "%matplotlib notebook\n",
    "import matplotlib.pyplot as plt\n",
    "import pylab"
   ]
  },
  {
   "cell_type": "code",
   "execution_count": 2,
   "metadata": {
    "collapsed": true
   },
   "outputs": [],
   "source": [
    "def convert_biom_to_pandas(table):\n",
    "    otu_table = pd.DataFrame(np.array(table.matrix_data.todense()).T,\n",
    "                             index=table.ids(axis='sample'),\n",
    "                             columns=table.ids(axis='observation'))\n",
    "    return otu_table"
   ]
  },
  {
   "cell_type": "code",
   "execution_count": 138,
   "metadata": {
    "collapsed": true
   },
   "outputs": [],
   "source": [
    "# read in biom table\n",
    "table = load_table('../data/dibd.biom')\n",
    "otu_table = convert_biom_to_pandas(table)"
   ]
  },
  {
   "cell_type": "code",
   "execution_count": 139,
   "metadata": {},
   "outputs": [
    {
     "data": {
      "text/plain": [
       "(181, 867)"
      ]
     },
     "execution_count": 139,
     "metadata": {},
     "output_type": "execute_result"
    }
   ],
   "source": [
    "otu_table.shape"
   ]
  },
  {
   "cell_type": "code",
   "execution_count": 140,
   "metadata": {},
   "outputs": [
    {
     "data": {
      "text/plain": [
       "DescribeResult(nobs=181, minmax=(3, 33645), mean=15121.6408839779, variance=53125636.364763662, skewness=0.13030260002240623, kurtosis=-0.08688686228613829)"
      ]
     },
     "execution_count": 140,
     "metadata": {},
     "output_type": "execute_result"
    }
   ],
   "source": [
    "# rarefy the data\n",
    "# row is samples, column is features\n",
    "otu_table2 = np.array(otu_table).astype(int)\n",
    "otu_sum = np.sum(otu_table2, axis=1)\n",
    "sp.stats.describe(otu_sum)"
   ]
  },
  {
   "cell_type": "code",
   "execution_count": 141,
   "metadata": {
    "collapsed": true
   },
   "outputs": [],
   "source": [
    "labels = np.array(otu_sum >= 1000) # minmax = (1k, 10k)\n",
    "otu_table3 = otu_table2[labels==True, :]"
   ]
  },
  {
   "cell_type": "code",
   "execution_count": 142,
   "metadata": {
    "collapsed": true
   },
   "outputs": [],
   "source": [
    "otu_table_r = np.zeros(np.shape(otu_table3))\n",
    "for i in range(np.shape(otu_table3)[0]):\n",
    "    col_r = subsample_counts(otu_table3[i, :], 1000)\n",
    "    otu_table_r[i, :] = col_r"
   ]
  },
  {
   "cell_type": "code",
   "execution_count": 143,
   "metadata": {
    "collapsed": true
   },
   "outputs": [],
   "source": [
    "otu_table_r.shape\n",
    "otu_table_r = pd.DataFrame(otu_table_r)"
   ]
  },
  {
   "cell_type": "code",
   "execution_count": 144,
   "metadata": {
    "collapsed": true
   },
   "outputs": [],
   "source": [
    "# generate the tree\n",
    "otu_tree = correlation_linkage(otu_table_r+1)"
   ]
  },
  {
   "cell_type": "code",
   "execution_count": 145,
   "metadata": {
    "collapsed": true
   },
   "outputs": [],
   "source": [
    "basis, _ = balance_basis(otu_tree)\n",
    "balances = ilr(otu_table_r+1, basis)"
   ]
  },
  {
   "cell_type": "code",
   "execution_count": 146,
   "metadata": {
    "collapsed": true
   },
   "outputs": [],
   "source": [
    "balance_ids = [n.name for n in otu_tree.levelorder() if not n.is_tip()]\n",
    "balances_df = pd.DataFrame(balances, index=otu_table.index[labels], columns=balance_ids)"
   ]
  },
  {
   "cell_type": "code",
   "execution_count": 147,
   "metadata": {
    "collapsed": true
   },
   "outputs": [],
   "source": [
    "# read in mapping file\n",
    "mapping=pd.read_table(\"../data/dibd.map.txt\", sep='\\t', header=0, index_col=0)"
   ]
  },
  {
   "cell_type": "code",
   "execution_count": 148,
   "metadata": {
    "collapsed": true
   },
   "outputs": [],
   "source": [
    "# choose intersted categories to compare with\n",
    "mapping2 = mapping.loc[mapping['disease_stat'].isin(['IBD','healthy'])]"
   ]
  },
  {
   "cell_type": "code",
   "execution_count": 149,
   "metadata": {
    "collapsed": true
   },
   "outputs": [],
   "source": [
    "mapping2, balances_df = match(mapping2, balances_df)"
   ]
  },
  {
   "cell_type": "code",
   "execution_count": 150,
   "metadata": {
    "collapsed": true
   },
   "outputs": [],
   "source": [
    "# fix floating point error in balances output\n",
    "balances_df = np.array(balances_df)\n",
    "for col in range(np.shape(balances_df)[1]):\n",
    "    for row in range(np.shape(balances_df)[0]):\n",
    "        close = np.isclose(balances_df[row, col], balances_df[:, col])\n",
    "        balances_df[close, col] = balances_df[row, col] "
   ]
  },
  {
   "cell_type": "code",
   "execution_count": 151,
   "metadata": {
    "collapsed": true
   },
   "outputs": [],
   "source": [
    "balances_dibd = np.transpose(balances_df)\n",
    "labels_dibd = np.array((mapping2['disease_stat'] == 'IBD').astype(int))"
   ]
  },
  {
   "cell_type": "code",
   "execution_count": 175,
   "metadata": {
    "collapsed": true
   },
   "outputs": [],
   "source": [
    "# apply FDR methods to balances\n",
    "results1 = dsfdr.dsfdr(data = balances_dibd, labels = labels_dibd, fdr_method='dsfdr')\n",
    "results2 = dsfdr.dsfdr(data = balances_dibd, labels = labels_dibd, fdr_method='bhfdr')"
   ]
  },
  {
   "cell_type": "code",
   "execution_count": 176,
   "metadata": {},
   "outputs": [
    {
     "name": "stdout",
     "output_type": "stream",
     "text": [
      "173 150 23 15.3333333333\n"
     ]
    }
   ],
   "source": [
    "# compare results of DS-FDR and BH method\n",
    "ds = np.sum(results1[0])\n",
    "bh = np.sum(results2[0])\n",
    "print(ds, bh, ds-bh, (ds-bh)/bh*100)"
   ]
  },
  {
   "cell_type": "code",
   "execution_count": null,
   "metadata": {
    "collapsed": true
   },
   "outputs": [],
   "source": []
  }
 ],
 "metadata": {
  "kernelspec": {
   "display_name": "Python 3",
   "language": "python",
   "name": "python3"
  },
  "language_info": {
   "codemirror_mode": {
    "name": "ipython",
    "version": 3
   },
   "file_extension": ".py",
   "mimetype": "text/x-python",
   "name": "python",
   "nbconvert_exporter": "python",
   "pygments_lexer": "ipython3",
   "version": "3.5.3"
  }
 },
 "nbformat": 4,
 "nbformat_minor": 2
}
