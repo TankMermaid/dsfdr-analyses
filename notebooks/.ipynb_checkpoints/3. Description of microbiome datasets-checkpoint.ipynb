{
 "cells": [
  {
   "cell_type": "code",
   "execution_count": 3,
   "metadata": {},
   "outputs": [],
   "source": [
    "import calour as cl\n",
    "import numpy as np\n",
    "cl.set_log_level(40) "
   ]
  },
  {
   "cell_type": "code",
   "execution_count": 5,
   "metadata": {},
   "outputs": [
    {
     "name": "stdout",
     "output_type": "stream",
     "text": [
      "dataset: cfs\n",
      "sample size: Patient    48\n",
      "Control    39\n",
      "Name: Subject, dtype: int64\n",
      "total taxa: 5812\n",
      "sparsity: 5.162525413136515\n"
     ]
    }
   ],
   "source": [
    "print('dataset: cfs')\n",
    "cfs = cl.read_amplicon('../../data/cfs.biom','../../data/cfs.map.txt', sparse=False, \n",
    "                       normalize=10000, min_reads=1000)\n",
    "# sample size in interested group\n",
    "print('sample size: %s' % (cfs.sample_metadata.Subject.value_counts()))\n",
    "\n",
    "# total number of bacteria\n",
    "print('total taxa: %s' % (len(cfs.feature_metadata.index)))\n",
    "\n",
    "# sparsity (percentage of non-zero entries)\n",
    "print('sparsity: %s' % ((np.count_nonzero(cfs.data)/((np.shape(cfs.data)[0])*(np.shape(cfs.data)[1])))*100))"
   ]
  },
  {
   "cell_type": "code",
   "execution_count": 8,
   "metadata": {},
   "outputs": [
    {
     "name": "stdout",
     "output_type": "stream",
     "text": [
      "dataset: mlt\n",
      "sample size: mouse cecum, TLR5 knockout    5\n",
      "mouse cecum, wild type        3\n",
      "Name: Description, dtype: int64\n",
      "total taxa: 908\n",
      "sparsity: 32.709251101321584\n"
     ]
    }
   ],
   "source": [
    "print('dataset: mlt')\n",
    "mlt = cl.read_amplicon('../../data/mlt.biom','../../data/mlt.map.txt', sparse=False, \n",
    "                       normalize=10000, min_reads=1000)\n",
    "# sample size in interested group\n",
    "print('sample size: %s' % (mlt.sample_metadata.Description.value_counts()))\n",
    "\n",
    "# total number of bacteria\n",
    "print('total taxa: %s' % (len(mlt.feature_metadata.index)))\n",
    "\n",
    "# sparsity (percentage of non-zero entries)\n",
    "print('sparsity: %s' % ((np.count_nonzero(mlt.data)/((np.shape(mlt.data)[0])*(np.shape(mlt.data)[1])))*100))"
   ]
  },
  {
   "cell_type": "code",
   "execution_count": 9,
   "metadata": {},
   "outputs": [
    {
     "name": "stdout",
     "output_type": "stream",
     "text": [
      "dataset: dme\n",
      "sample size: unknown              35\n",
      "cesarean delivery    27\n",
      "vaginal delivery     17\n",
      "Name: misc_param, dtype: int64\n",
      "total taxa: 3774\n",
      "sparsity: 5.165254606803378\n"
     ]
    }
   ],
   "source": [
    "print('dataset: dme')\n",
    "dme = cl.read_amplicon('../../data/dme.biom','../../data/dme.map.txt', sparse=False, \n",
    "                       normalize=10000, min_reads=1000)\n",
    "# sample size in interested group\n",
    "print('sample size: %s' % (dme.sample_metadata.misc_param.value_counts()))\n",
    "\n",
    "# total number of bacteria\n",
    "print('total taxa: %s' % (len(dme.feature_metadata.index)))\n",
    "\n",
    "# sparsity (percentage of non-zero entries)\n",
    "print('sparsity: %s' % ((np.count_nonzero(dme.data)/((np.shape(dme.data)[0])*(np.shape(dme.data)[1])))*100))"
   ]
  },
  {
   "cell_type": "code",
   "execution_count": 10,
   "metadata": {},
   "outputs": [
    {
     "name": "stdout",
     "output_type": "stream",
     "text": [
      "dataset: gcd\n",
      "sample size: CD         719\n",
      "no         333\n",
      "UC         215\n",
      "IC          71\n",
      "control      1\n",
      "Name: diagnosis, dtype: int64\n",
      "total taxa: 9511\n",
      "sparsity: 4.064638335125344\n"
     ]
    }
   ],
   "source": [
    "print('dataset: gcd')\n",
    "gcd = cl.read_amplicon('../../data/gcd.biom','../../data/gcd.map.txt', sparse=False, \n",
    "                       normalize=10000, min_reads=1000)\n",
    "# sample size in interested group\n",
    "print('sample size: %s' % (gcd.sample_metadata.diagnosis.value_counts()))\n",
    "\n",
    "# total number of bacteria\n",
    "print('total taxa: %s' % (len(gcd.feature_metadata.index)))\n",
    "\n",
    "# sparsity (percentage of non-zero entries)\n",
    "print('sparsity: %s' % ((np.count_nonzero(gcd.data)/((np.shape(gcd.data)[0])*(np.shape(gcd.data)[1])))*100))"
   ]
  },
  {
   "cell_type": "code",
   "execution_count": 12,
   "metadata": {},
   "outputs": [
    {
     "name": "stdout",
     "output_type": "stream",
     "text": [
      "dataset: ukt\n",
      "sample size: Lean     273\n",
      "Obese    114\n",
      "Name: bmi_cat, dtype: int64\n",
      "total taxa: 8480\n",
      "sparsity: 12.386551269920782\n"
     ]
    }
   ],
   "source": [
    "print('dataset: ukt')\n",
    "ukt = cl.read_amplicon('../../data/uk_twins_otu.biom','../../data/uk_twins_map.txt', sparse=False, \n",
    "                       normalize=10000, min_reads=1000)\n",
    "# sample size in interested group\n",
    "print('sample size: %s' % (ukt.sample_metadata.bmi_cat.value_counts()))\n",
    "\n",
    "# total number of bacteria\n",
    "print('total taxa: %s' % (len(ukt.feature_metadata.index)))\n",
    "\n",
    "# sparsity (percentage of non-zero entries)\n",
    "print('sparsity: %s' % ((np.count_nonzero(ukt.data)/((np.shape(ukt.data)[0])*(np.shape(ukt.data)[1])))*100))"
   ]
  },
  {
   "cell_type": "code",
   "execution_count": 13,
   "metadata": {},
   "outputs": [
    {
     "name": "stdout",
     "output_type": "stream",
     "text": [
      "dataset: dibd\n",
      "sample size: healthy                89\n",
      "IBD                    69\n",
      "acute hem. diarrhea    14\n",
      "Name: disease_stat, dtype: int64\n",
      "total taxa: 867\n",
      "sparsity: 7.3133767871033495\n"
     ]
    }
   ],
   "source": [
    "print('dataset: dibd')\n",
    "dibd = cl.read_amplicon('../../data/dibd.biom','../../data/dibd.map.txt', sparse=False, \n",
    "                       normalize=10000, min_reads=1000)\n",
    "# sample size in interested group\n",
    "print('sample size: %s' % (dibd.sample_metadata.disease_stat.value_counts()))\n",
    "\n",
    "# total number of bacteria\n",
    "print('total taxa: %s' % (len(dibd.feature_metadata.index)))\n",
    "\n",
    "# sparsity (percentage of non-zero entries)\n",
    "print('sparsity: %s' % ((np.count_nonzero(dibd.data)/((np.shape(dibd.data)[0])*(np.shape(dibd.data)[1])))*100))"
   ]
  },
  {
   "cell_type": "code",
   "execution_count": 14,
   "metadata": {},
   "outputs": [
    {
     "name": "stdout",
     "output_type": "stream",
     "text": [
      "dataset: cs\n",
      "sample size: False    125\n",
      "True     110\n",
      "Name: smoker, dtype: int64\n",
      "total taxa: 2817\n",
      "sparsity: 4.595200870097206\n"
     ]
    }
   ],
   "source": [
    "print('dataset: cs')\n",
    "cs = cl.read_amplicon('../../data/cs.biom','../../data/cs.map.txt', sparse=False, \n",
    "                       normalize=10000, min_reads=1000)\n",
    "# sample size in interested group\n",
    "print('sample size: %s' % (cs.sample_metadata.smoker.value_counts()))\n",
    "\n",
    "# total number of bacteria\n",
    "print('total taxa: %s' % (len(cs.feature_metadata.index)))\n",
    "\n",
    "# sparsity (percentage of non-zero entries)\n",
    "print('sparsity: %s' % ((np.count_nonzero(cs.data)/((np.shape(cs.data)[0])*(np.shape(cs.data)[1])))*100))"
   ]
  },
  {
   "cell_type": "code",
   "execution_count": 16,
   "metadata": {},
   "outputs": [
    {
     "name": "stdout",
     "output_type": "stream",
     "text": [
      "dataset: ag\n"
     ]
    },
    {
     "name": "stderr",
     "output_type": "stream",
     "text": [
      "/Users/ssun/miniconda3/envs/dsfdr/lib/python3.5/site-packages/ipykernel_launcher.py:3: DtypeWarning: Columns (0,71) have mixed types. Specify dtype option on import or set low_memory=False.\n",
      "  This is separate from the ipykernel package so we can avoid doing imports until\n"
     ]
    },
    {
     "name": "stdout",
     "output_type": "stream",
     "text": [
      "sample size: I have not taken antibiotics in the past year.    3901\n",
      "Year                                               853\n",
      "6 months                                           781\n",
      "Month                                              190\n",
      "Unknown                                            166\n",
      "Week                                               126\n",
      "Unspecified                                         83\n",
      "Name: ANTIBIOTIC_HISTORY, dtype: int64\n",
      "sample size: Unknown         2394\n",
      "11 to 20        1294\n",
      "6 to 10          915\n",
      "21 to 30         667\n",
      "More than 30     434\n",
      "Less than 5      270\n",
      "Unspecified      126\n",
      "Name: TYPES_OF_PLANTS, dtype: int64\n",
      "total taxa: 37878\n",
      "sparsity: 0.47810596046912407\n"
     ]
    }
   ],
   "source": [
    "print('dataset: ag')\n",
    "ag = cl.read_amplicon('../../data/ag.biom','../../data/ag_fecals.map.txt', sparse=False, \n",
    "                       normalize=10000, min_reads=1000)\n",
    "# sample size in interested group\n",
    "print('sample size: %s' % (ag.sample_metadata.ANTIBIOTIC_HISTORY.value_counts()))\n",
    "print('sample size: %s' % (ag.sample_metadata.TYPES_OF_PLANTS.value_counts()))\n",
    "\n",
    "# total number of bacteria\n",
    "print('total taxa: %s' % (len(ag.feature_metadata.index)))\n",
    "\n",
    "# sparsity (percentage of non-zero entries)\n",
    "print('sparsity: %s' % ((np.count_nonzero(ag.data)/((np.shape(ag.data)[0])*(np.shape(ag.data)[1])))*100))"
   ]
  },
  {
   "cell_type": "code",
   "execution_count": null,
   "metadata": {},
   "outputs": [],
   "source": []
  }
 ],
 "metadata": {
  "kernelspec": {
   "display_name": "Python 3",
   "language": "python",
   "name": "python3"
  },
  "language_info": {
   "codemirror_mode": {
    "name": "ipython",
    "version": 3
   },
   "file_extension": ".py",
   "mimetype": "text/x-python",
   "name": "python",
   "nbconvert_exporter": "python",
   "pygments_lexer": "ipython3",
   "version": "3.5.4"
  }
 },
 "nbformat": 4,
 "nbformat_minor": 2
}
