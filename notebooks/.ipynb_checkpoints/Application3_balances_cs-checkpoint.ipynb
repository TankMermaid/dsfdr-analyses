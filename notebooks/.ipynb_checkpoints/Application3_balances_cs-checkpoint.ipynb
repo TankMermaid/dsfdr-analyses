{
 "cells": [
  {
   "cell_type": "markdown",
   "metadata": {},
   "source": [
    "This notebook is apply balances with DS-FDR to rarefied CS dataset"
   ]
  },
  {
   "cell_type": "code",
   "execution_count": 3,
   "metadata": {
    "collapsed": true
   },
   "outputs": [],
   "source": [
    "import pandas as pd\n",
    "import numpy as np\n",
    "import scipy as sp\n",
    "from skbio.stats import subsample_counts\n",
    "from biom import load_table\n",
    "from gneiss.cluster import correlation_linkage\n",
    "from gneiss.util import rename_internal_nodes, match\n",
    "from gneiss.balances import balance_basis\n",
    "from skbio.stats.composition import ilr\n",
    "import skbio\n",
    "import qiime2\n",
    "\n",
    "import dsfdr\n",
    "import statistics\n",
    "import transform\n",
    "\n",
    "%matplotlib notebook\n",
    "import matplotlib.pyplot as plt\n",
    "import pylab"
   ]
  },
  {
   "cell_type": "code",
   "execution_count": 4,
   "metadata": {
    "collapsed": true
   },
   "outputs": [],
   "source": [
    "def convert_biom_to_pandas(table):\n",
    "    otu_table = pd.DataFrame(np.array(table.matrix_data.todense()).T,\n",
    "                             index=table.ids(axis='sample'),\n",
    "                             columns=table.ids(axis='observation'))\n",
    "    return otu_table"
   ]
  },
  {
   "cell_type": "code",
   "execution_count": 71,
   "metadata": {},
   "outputs": [
    {
     "data": {
      "text/plain": [
       "(290, 2817)"
      ]
     },
     "execution_count": 71,
     "metadata": {},
     "output_type": "execute_result"
    }
   ],
   "source": [
    "table = load_table('../data/cs.biom')\n",
    "otu_table = convert_biom_to_pandas(table)\n",
    "otu_table.shape"
   ]
  },
  {
   "cell_type": "code",
   "execution_count": 72,
   "metadata": {},
   "outputs": [
    {
     "data": {
      "text/plain": [
       "DescribeResult(nobs=290, minmax=(1, 5160), mean=1599.5103448275861, variance=519695.24729745858, skewness=0.9514982056932724, kurtosis=3.0885957924253225)"
      ]
     },
     "execution_count": 72,
     "metadata": {},
     "output_type": "execute_result"
    }
   ],
   "source": [
    "# rarefy\n",
    "otu_table2 = np.array(otu_table).astype(int)\n",
    "otu_sum = np.sum(otu_table2, axis=1)\n",
    "sp.stats.describe(otu_sum)"
   ]
  },
  {
   "cell_type": "code",
   "execution_count": 73,
   "metadata": {},
   "outputs": [
    {
     "data": {
      "text/plain": [
       "(235, 2817)"
      ]
     },
     "execution_count": 73,
     "metadata": {},
     "output_type": "execute_result"
    }
   ],
   "source": [
    "labels = np.array(otu_sum >= 1000) # minmax = (1k, 10k)\n",
    "otu_table3 = otu_table2[labels==True, :]\n",
    "otu_table3.shape"
   ]
  },
  {
   "cell_type": "code",
   "execution_count": 74,
   "metadata": {
    "collapsed": true
   },
   "outputs": [],
   "source": [
    "otu_table_r = np.zeros(np.shape(otu_table3))\n",
    "for i in range(np.shape(otu_table3)[0]):\n",
    "    col_r = subsample_counts(otu_table3[i, :], 1000)\n",
    "    otu_table_r[i, :] = col_r"
   ]
  },
  {
   "cell_type": "code",
   "execution_count": 75,
   "metadata": {
    "collapsed": true
   },
   "outputs": [],
   "source": [
    "# generate the tree\n",
    "otu_table_r = pd.DataFrame(otu_table_r)\n",
    "otu_tree = correlation_linkage(otu_table_r + 1)"
   ]
  },
  {
   "cell_type": "code",
   "execution_count": 76,
   "metadata": {
    "collapsed": true
   },
   "outputs": [],
   "source": [
    "basis, _ = balance_basis(otu_tree)\n",
    "balances = ilr(otu_table_r + 1, basis)"
   ]
  },
  {
   "cell_type": "code",
   "execution_count": 77,
   "metadata": {
    "collapsed": true
   },
   "outputs": [],
   "source": [
    "balance_ids = [n.name for n in otu_tree.levelorder() if not n.is_tip()]\n",
    "balances_df = pd.DataFrame(balances, index=otu_table.index[labels], columns=balance_ids)"
   ]
  },
  {
   "cell_type": "code",
   "execution_count": 78,
   "metadata": {
    "collapsed": true
   },
   "outputs": [],
   "source": [
    "mapping=pd.read_table(\"../data/cs.map.txt\", sep='\\t', header=0, index_col=0)"
   ]
  },
  {
   "cell_type": "code",
   "execution_count": 79,
   "metadata": {},
   "outputs": [
    {
     "data": {
      "text/plain": [
       "True     148\n",
       "False    143\n",
       "Name: smoker, dtype: int64"
      ]
     },
     "execution_count": 79,
     "metadata": {},
     "output_type": "execute_result"
    }
   ],
   "source": [
    "mapping['smoker'].value_counts()"
   ]
  },
  {
   "cell_type": "code",
   "execution_count": 80,
   "metadata": {
    "collapsed": true
   },
   "outputs": [],
   "source": [
    "mapping, balances_df = match(mapping, balances_df)"
   ]
  },
  {
   "cell_type": "code",
   "execution_count": 81,
   "metadata": {
    "collapsed": true
   },
   "outputs": [],
   "source": [
    "# fix floating point error in balances output\n",
    "balances_df = np.array(balances_df)\n",
    "for col in range(np.shape(balances_df)[1]):\n",
    "    for row in range(np.shape(balances_df)[0]):\n",
    "        close = np.isclose(balances_df[row, col], balances_df[:, col])\n",
    "        balances_df[close, col] = balances_df[row, col] "
   ]
  },
  {
   "cell_type": "code",
   "execution_count": 82,
   "metadata": {
    "collapsed": true
   },
   "outputs": [],
   "source": [
    "balances_cs = np.transpose(balances_df)\n",
    "labels_cs = np.array((mapping['smoker'] == False).astype(int))"
   ]
  },
  {
   "cell_type": "code",
   "execution_count": 83,
   "metadata": {},
   "outputs": [
    {
     "name": "stdout",
     "output_type": "stream",
     "text": [
      "(2816, 235)\n",
      "(235,)\n"
     ]
    }
   ],
   "source": [
    "print(balances_cs.shape)\n",
    "print(labels_cs.shape)"
   ]
  },
  {
   "cell_type": "code",
   "execution_count": 92,
   "metadata": {
    "collapsed": true
   },
   "outputs": [],
   "source": [
    "results1 = dsfdr.dsfdr(data = balances_cs, labels = labels_cs, fdr_method='dsfdr')\n",
    "results2 = dsfdr.dsfdr(data = balances_cs, labels = labels_cs, fdr_method='bhfdr')"
   ]
  },
  {
   "cell_type": "code",
   "execution_count": 93,
   "metadata": {},
   "outputs": [
    {
     "name": "stdout",
     "output_type": "stream",
     "text": [
      "822 745 77 10.3355704698\n"
     ]
    }
   ],
   "source": [
    "ds = np.sum(results1[0])\n",
    "bh = np.sum(results2[0])\n",
    "print(ds, bh, ds-bh, (ds-bh)/bh*100)"
   ]
  },
  {
   "cell_type": "code",
   "execution_count": null,
   "metadata": {
    "collapsed": true
   },
   "outputs": [],
   "source": []
  }
 ],
 "metadata": {
  "kernelspec": {
   "display_name": "Python 3",
   "language": "python",
   "name": "python3"
  },
  "language_info": {
   "codemirror_mode": {
    "name": "ipython",
    "version": 3
   },
   "file_extension": ".py",
   "mimetype": "text/x-python",
   "name": "python",
   "nbconvert_exporter": "python",
   "pygments_lexer": "ipython3",
   "version": "3.5.3"
  }
 },
 "nbformat": 4,
 "nbformat_minor": 2
}
