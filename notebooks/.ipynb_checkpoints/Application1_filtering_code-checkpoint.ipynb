{
 "cells": [
  {
   "cell_type": "markdown",
   "metadata": {},
   "source": [
    "This notebook is to demonstrate how DS-FDR can alleviate the effect of arbitrary filtering compared to BH FDR (Application I). Four datasets (CFS, MLT, AGA and AGP) were chosen and the filtering level was set to be in the range from 0 to 500."
   ]
  },
  {
   "cell_type": "code",
   "execution_count": 1,
   "metadata": {
    "collapsed": true
   },
   "outputs": [],
   "source": [
    "import warnings   \n",
    "warnings.simplefilter(\"ignore\") \n",
    "import matplotlib as mpl\n",
    "import matplotlib.pyplot as plt\n",
    "import pylab\n",
    "%matplotlib notebook\n",
    "\n",
    "import sys\n",
    "sys.path.append('/Users/Serene/git/Amnon/calour')\n",
    "import calour as cl\n",
    "import numpy as np\n",
    "import pandas as pd\n",
    "\n",
    "from scipy.stats import sem\n",
    "import pickle\n",
    "\n",
    "cl.set_log_level(40) "
   ]
  },
  {
   "cell_type": "markdown",
   "metadata": {},
   "source": [
    "## CFS data "
   ]
  },
  {
   "cell_type": "code",
   "execution_count": 2,
   "metadata": {
    "collapsed": true
   },
   "outputs": [],
   "source": [
    "# read in CFS data\n",
    "cfs = cl.read_amplicon('../data/cfs.biom','../data/cfs.map.txt', sparse=False, filter_reads=1000, normalize=10000)"
   ]
  },
  {
   "cell_type": "code",
   "execution_count": 3,
   "metadata": {},
   "outputs": [
    {
     "name": "stdout",
     "output_type": "stream",
     "text": [
      "filter level...: 0\n",
      "filter level...: 1\n",
      "filter level...: 2\n",
      "filter level...: 3\n",
      "filter level...: 4\n",
      "filter level...: 5\n",
      "filter level...: 6\n",
      "filter level...: 7\n",
      "filter level...: 8\n",
      "filter level...: 9\n",
      "filter level...: 10\n",
      "filter level...: 20\n",
      "filter level...: 30\n",
      "filter level...: 40\n",
      "filter level...: 50\n",
      "filter level...: 60\n",
      "filter level...: 70\n",
      "filter level...: 80\n",
      "filter level...: 90\n",
      "filter level...: 100\n",
      "filter level...: 200\n",
      "filter level...: 300\n",
      "filter level...: 400\n",
      "filter level...: 500\n"
     ]
    }
   ],
   "source": [
    "# set the filter level\n",
    "filtlev = [0,1,2,3,4,5,6,7,8,9,10,20,30,40,50,60,70,80,90,100,200,300,400,500]\n",
    "B=100\n",
    "\n",
    "sig_ds_cfs = []\n",
    "sig_bh_cfs = []\n",
    "for i in filtlev:\n",
    "    print('filter level...: %s' %(i))\n",
    "    \n",
    "    sig_ds = []\n",
    "    sig_bh = []\n",
    "    for j in range(B):\n",
    "        cfs_sub = cfs.filter_min_abundance(i)\n",
    "        \n",
    "        # choose interested groups to compare and then apply FDR methods\n",
    "        ds_cfs = cfs_sub.diff_abundance('Subject','Control','Patient', fdr_method='dsfdr')\n",
    "        bh_cfs = cfs_sub.diff_abundance('Subject','Control','Patient', fdr_method='bhfdr')\n",
    "        sig_ds.append(len(ds_cfs.feature_metadata.index))\n",
    "        sig_bh.append(len(bh_cfs.feature_metadata.index))\n",
    "        \n",
    "    sig_ds_cfs.append(np.mean(sig_ds))   \n",
    "    sig_bh_cfs.append(np.mean(sig_bh))  "
   ]
  },
  {
   "cell_type": "code",
   "execution_count": 5,
   "metadata": {
    "collapsed": true
   },
   "outputs": [],
   "source": [
    "# store the result\n",
    "with open(\"../results/cfs_filtering_updated.pkl\", \"wb\") as f:\n",
    "    pickle.dump((filtlev, sig_bh_cfs, sig_ds_cfs), f)"
   ]
  },
  {
   "cell_type": "markdown",
   "metadata": {
    "collapsed": true
   },
   "source": [
    "## Mice Lacking Toil-like Receptor (Qitta ID: 460)"
   ]
  },
  {
   "cell_type": "code",
   "execution_count": 13,
   "metadata": {
    "collapsed": true
   },
   "outputs": [],
   "source": [
    "# read in MLT data\n",
    "mlt = cl.read_amplicon('../data/mlt.biom','../data/mlt.map.txt', sparse=False, filter_reads=1000, normalize=10000)"
   ]
  },
  {
   "cell_type": "code",
   "execution_count": 14,
   "metadata": {},
   "outputs": [
    {
     "name": "stdout",
     "output_type": "stream",
     "text": [
      "filter level...: 0\n",
      "filter level...: 1\n",
      "filter level...: 2\n",
      "filter level...: 3\n",
      "filter level...: 4\n",
      "filter level...: 5\n",
      "filter level...: 6\n",
      "filter level...: 7\n",
      "filter level...: 8\n",
      "filter level...: 9\n",
      "filter level...: 10\n",
      "filter level...: 20\n",
      "filter level...: 30\n",
      "filter level...: 40\n",
      "filter level...: 50\n",
      "filter level...: 60\n",
      "filter level...: 70\n",
      "filter level...: 80\n",
      "filter level...: 90\n",
      "filter level...: 100\n",
      "filter level...: 200\n",
      "filter level...: 300\n",
      "filter level...: 400\n",
      "filter level...: 500\n"
     ]
    }
   ],
   "source": [
    "# set the filter level\n",
    "filtlev = [0,1,2,3,4,5,6,7,8,9,10,20,30,40,50,60,70,80,90,100,200,300,400,500]\n",
    "B=100\n",
    "\n",
    "sig_ds_mlt = []\n",
    "sig_bh_mlt = []\n",
    "for i in filtlev:\n",
    "    print('filter level...: %s' %(i))\n",
    "    \n",
    "    sig_ds = []\n",
    "    sig_bh = []\n",
    "    for j in range(B):\n",
    "        mlt_sub = mlt.filter_min_abundance(i)\n",
    "        \n",
    "        # choose interested groups to compare and then apply FDR methods\n",
    "        ds_mlt = mlt_sub.diff_abundance('Description','mouse cecum, TLR5 knockout',\n",
    "                                    'mouse cecum, wild type', fdr_method='dsfdr')\n",
    "        bh_mlt = mlt_sub.diff_abundance('Description','mouse cecum, TLR5 knockout',\n",
    "                                    'mouse cecum, wild type', fdr_method='bhfdr')\n",
    "        sig_ds.append(len(ds_mlt.feature_metadata.index))\n",
    "        sig_bh.append(len(bh_mlt.feature_metadata.index))\n",
    "        \n",
    "    sig_ds_mlt.append(np.mean(sig_ds))   \n",
    "    sig_bh_mlt.append(np.mean(sig_bh))  "
   ]
  },
  {
   "cell_type": "code",
   "execution_count": 17,
   "metadata": {
    "collapsed": true
   },
   "outputs": [],
   "source": [
    "# store the result\n",
    "with open(\"../results/mlt_filtering_updated.pkl\", \"wb\") as f:\n",
    "    pickle.dump((filtlev, sig_bh_mlt, sig_ds_mlt), f)"
   ]
  },
  {
   "cell_type": "markdown",
   "metadata": {},
   "source": [
    "## American Gut"
   ]
  },
  {
   "cell_type": "code",
   "execution_count": 2,
   "metadata": {
    "collapsed": true
   },
   "outputs": [],
   "source": [
    "# read in American Gut data\n",
    "ag = cl.read_amplicon('../data/ag.biom','../data/ag_fecals.map.txt',sparse=False, filter_reads=1000, normalize=10000)"
   ]
  },
  {
   "cell_type": "code",
   "execution_count": 3,
   "metadata": {},
   "outputs": [
    {
     "name": "stdout",
     "output_type": "stream",
     "text": [
      "filter level...: 0\n",
      "filter level...: 1\n",
      "filter level...: 2\n",
      "filter level...: 3\n",
      "filter level...: 4\n",
      "filter level...: 5\n",
      "filter level...: 6\n",
      "filter level...: 7\n",
      "filter level...: 8\n",
      "filter level...: 9\n",
      "filter level...: 10\n",
      "filter level...: 20\n",
      "filter level...: 30\n",
      "filter level...: 40\n",
      "filter level...: 50\n",
      "filter level...: 60\n",
      "filter level...: 70\n",
      "filter level...: 80\n",
      "filter level...: 90\n",
      "filter level...: 100\n",
      "filter level...: 200\n",
      "filter level...: 300\n",
      "filter level...: 400\n",
      "filter level...: 500\n"
     ]
    }
   ],
   "source": [
    "# set the filter level\n",
    "filtlev = [0,1,2,3,4,5,6,7,8,9,10,20,30,40,50,60,70,80,90,100,200,300,400,500]\n",
    "B=10\n",
    "\n",
    "sig_ds_aga = []\n",
    "sig_bh_aga = []\n",
    "sig_ds_agp = []\n",
    "sig_bh_agp = []\n",
    "for i in filtlev:\n",
    "    print('filter level...: %s' %(i))\n",
    "    \n",
    "    sig_ds_a = []\n",
    "    sig_bh_a = []\n",
    "    sig_ds_p = []\n",
    "    sig_bh_p = []\n",
    "    for j in range(B):\n",
    "        ag_sub = ag.filter_min_abundance(i)\n",
    "        \n",
    "        # choose interested groups to compare and then apply FDR methods\n",
    "        ds_aga = ag_sub.diff_abundance('ANTIBIOTIC_HISTORY','I have not taken antibiotics in the past year.',\n",
    "                                'Week', fdr_method='dsfdr')\n",
    "        bh_aga = ag_sub.diff_abundance('ANTIBIOTIC_HISTORY','I have not taken antibiotics in the past year.',\n",
    "                                'Week', fdr_method='bhfdr')\n",
    "        sig_ds_a.append(len(ds_aga.feature_metadata.index))\n",
    "        sig_bh_a.append(len(bh_aga.feature_metadata.index))\n",
    "        \n",
    "        ds_agp = ag_sub.diff_abundance('TYPES_OF_PLANTS','More than 30','Less than 5', fdr_method='dsfdr')\n",
    "        bh_agp = ag_sub.diff_abundance('TYPES_OF_PLANTS','More than 30','Less than 5', fdr_method='bhfdr')\n",
    "        sig_ds_p.append(len(ds_agp.feature_metadata.index))\n",
    "        sig_bh_p.append(len(bh_agp.feature_metadata.index))\n",
    "        \n",
    "    sig_ds_aga.append(np.mean(sig_ds_a))   \n",
    "    sig_bh_aga.append(np.mean(sig_bh_a)) \n",
    "    sig_ds_agp.append(np.mean(sig_ds_p))   \n",
    "    sig_bh_agp.append(np.mean(sig_bh_p))   "
   ]
  },
  {
   "cell_type": "code",
   "execution_count": 4,
   "metadata": {
    "collapsed": true
   },
   "outputs": [],
   "source": [
    "# store the result\n",
    "with open(\"../results/ag_filtering_v2.pkl\", \"wb\") as f:\n",
    "    pickle.dump((filtlev, sig_bh_aga, sig_ds_aga, sig_bh_agp, sig_ds_agp), f)"
   ]
  },
  {
   "cell_type": "code",
   "execution_count": null,
   "metadata": {
    "collapsed": true
   },
   "outputs": [],
   "source": []
  }
 ],
 "metadata": {
  "anaconda-cloud": {},
  "kernelspec": {
   "display_name": "Python 3",
   "language": "python",
   "name": "python3"
  },
  "language_info": {
   "codemirror_mode": {
    "name": "ipython",
    "version": 3
   },
   "file_extension": ".py",
   "mimetype": "text/x-python",
   "name": "python",
   "nbconvert_exporter": "python",
   "pygments_lexer": "ipython3",
   "version": "3.5.3"
  }
 },
 "nbformat": 4,
 "nbformat_minor": 1
}
