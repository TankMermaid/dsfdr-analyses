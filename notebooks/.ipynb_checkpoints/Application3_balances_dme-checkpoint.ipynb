{
 "cells": [
  {
   "cell_type": "markdown",
   "metadata": {},
   "source": [
    "This notebook is apply balances with DS-FDR to rarefied DME dataset"
   ]
  },
  {
   "cell_type": "code",
   "execution_count": 57,
   "metadata": {
    "collapsed": true
   },
   "outputs": [],
   "source": [
    "import pandas as pd\n",
    "import numpy as np\n",
    "import scipy as sp\n",
    "from skbio.stats import subsample_counts\n",
    "from biom import load_table\n",
    "from gneiss.cluster import correlation_linkage\n",
    "from gneiss.util import rename_internal_nodes, match\n",
    "from gneiss.balances import balance_basis\n",
    "from skbio.stats.composition import ilr\n",
    "import skbio\n",
    "import qiime2\n",
    "\n",
    "import dsfdr\n",
    "import statistics\n",
    "import transform\n",
    "\n",
    "%matplotlib notebook\n",
    "import matplotlib.pyplot as plt\n",
    "import pylab"
   ]
  },
  {
   "cell_type": "code",
   "execution_count": 58,
   "metadata": {
    "collapsed": true
   },
   "outputs": [],
   "source": [
    "def convert_biom_to_pandas(table):\n",
    "    otu_table = pd.DataFrame(np.array(table.matrix_data.todense()).T,\n",
    "                             index=table.ids(axis='sample'),\n",
    "                             columns=table.ids(axis='observation'))\n",
    "    return otu_table"
   ]
  },
  {
   "cell_type": "code",
   "execution_count": 88,
   "metadata": {
    "collapsed": true
   },
   "outputs": [],
   "source": [
    "# read in biom table\n",
    "table = load_table('../data/dme.biom')\n",
    "otu_table = convert_biom_to_pandas(table)"
   ]
  },
  {
   "cell_type": "code",
   "execution_count": 89,
   "metadata": {},
   "outputs": [
    {
     "data": {
      "text/plain": [
       "(80, 3774)"
      ]
     },
     "execution_count": 89,
     "metadata": {},
     "output_type": "execute_result"
    }
   ],
   "source": [
    "otu_table.shape"
   ]
  },
  {
   "cell_type": "code",
   "execution_count": 90,
   "metadata": {},
   "outputs": [
    {
     "data": {
      "text/plain": [
       "DescribeResult(nobs=80, minmax=(588, 3845), mean=1913.5374999999999, variance=182540.55553797467, skewness=1.2306648629128023, kurtosis=4.988620859863893)"
      ]
     },
     "execution_count": 90,
     "metadata": {},
     "output_type": "execute_result"
    }
   ],
   "source": [
    "# rarefy\n",
    "otu_table2 = np.array(otu_table).astype(int)\n",
    "otu_sum = np.sum(otu_table2, axis=1)\n",
    "sp.stats.describe(otu_sum)"
   ]
  },
  {
   "cell_type": "code",
   "execution_count": 131,
   "metadata": {},
   "outputs": [
    {
     "data": {
      "text/plain": [
       "(75, 3774)"
      ]
     },
     "execution_count": 131,
     "metadata": {},
     "output_type": "execute_result"
    }
   ],
   "source": [
    "labels = np.array(otu_sum >= 1500) # minmax = (1k, 10k)\n",
    "otu_table3 = otu_table2[labels==True, :]\n",
    "otu_table3.shape"
   ]
  },
  {
   "cell_type": "code",
   "execution_count": 132,
   "metadata": {
    "collapsed": true
   },
   "outputs": [],
   "source": [
    "otu_table_r = np.zeros(np.shape(otu_table3))\n",
    "for i in range(np.shape(otu_table3)[0]):\n",
    "    col_r = subsample_counts(otu_table3[i, :], 1500)\n",
    "    otu_table_r[i, :] = col_r"
   ]
  },
  {
   "cell_type": "code",
   "execution_count": 133,
   "metadata": {
    "collapsed": true
   },
   "outputs": [],
   "source": [
    "# generate the tree\n",
    "otu_table_r = pd.DataFrame(otu_table_r)\n",
    "otu_tree = correlation_linkage(otu_table_r + 1)"
   ]
  },
  {
   "cell_type": "code",
   "execution_count": 134,
   "metadata": {
    "collapsed": true
   },
   "outputs": [],
   "source": [
    "basis, _ = balance_basis(otu_tree)\n",
    "balances = ilr(otu_table_r + 1, basis)"
   ]
  },
  {
   "cell_type": "code",
   "execution_count": 135,
   "metadata": {
    "collapsed": true
   },
   "outputs": [],
   "source": [
    "balance_ids = [n.name for n in otu_tree.levelorder() if not n.is_tip()]\n",
    "balances_df = pd.DataFrame(balances, index=otu_table.index[labels], columns=balance_ids)"
   ]
  },
  {
   "cell_type": "code",
   "execution_count": 136,
   "metadata": {
    "collapsed": true
   },
   "outputs": [],
   "source": [
    "# read in mapping file\n",
    "mapping = pd.read_table(\"../data/dme.map.txt\", sep='\\t', header=0, index_col=0)"
   ]
  },
  {
   "cell_type": "code",
   "execution_count": 137,
   "metadata": {
    "collapsed": true
   },
   "outputs": [],
   "source": [
    "# choose intersted categories to compare with\n",
    "mapping2 = mapping.loc[mapping['misc_param'].isin(['cesarean delivery','vaginal delivery'])]"
   ]
  },
  {
   "cell_type": "code",
   "execution_count": 138,
   "metadata": {
    "collapsed": true
   },
   "outputs": [],
   "source": [
    "# magic function (match SampleID in order and delete unmatched ones)\n",
    "mapping2, balances_df = match(mapping2, balances_df)"
   ]
  },
  {
   "cell_type": "code",
   "execution_count": 139,
   "metadata": {
    "collapsed": true
   },
   "outputs": [],
   "source": [
    "# fix floating point error in balances output\n",
    "balances_df = np.array(balances_df)\n",
    "for col in range(np.shape(balances_df)[1]):\n",
    "    for row in range(np.shape(balances_df)[0]):\n",
    "        close = np.isclose(balances_df[row, col], balances_df[:, col])\n",
    "        balances_df[close, col] = balances_df[row, col] "
   ]
  },
  {
   "cell_type": "code",
   "execution_count": 140,
   "metadata": {
    "collapsed": true
   },
   "outputs": [],
   "source": [
    "balances_dme = np.transpose(balances_df)\n",
    "labels_dme = np.array((mapping2['misc_param'] == 'cesarean delivery').astype(int))"
   ]
  },
  {
   "cell_type": "code",
   "execution_count": 141,
   "metadata": {},
   "outputs": [
    {
     "data": {
      "text/plain": [
       "(3773, 42)"
      ]
     },
     "execution_count": 141,
     "metadata": {},
     "output_type": "execute_result"
    }
   ],
   "source": [
    "balances_dme.shape"
   ]
  },
  {
   "cell_type": "code",
   "execution_count": 142,
   "metadata": {},
   "outputs": [
    {
     "data": {
      "text/plain": [
       "(42,)"
      ]
     },
     "execution_count": 142,
     "metadata": {},
     "output_type": "execute_result"
    }
   ],
   "source": [
    "labels_dme.shape"
   ]
  },
  {
   "cell_type": "code",
   "execution_count": 161,
   "metadata": {
    "collapsed": true
   },
   "outputs": [],
   "source": [
    "# apply FDR methods to balances\n",
    "results1 = dsfdr.dsfdr(data = balances_dme, labels = labels_dme, fdr_method='dsfdr')\n",
    "results2 = dsfdr.dsfdr(data = balances_dme, labels = labels_dme, fdr_method='bhfdr')"
   ]
  },
  {
   "cell_type": "code",
   "execution_count": 162,
   "metadata": {},
   "outputs": [
    {
     "name": "stdout",
     "output_type": "stream",
     "text": [
      "913 773 140 18.1112548512\n"
     ]
    }
   ],
   "source": [
    "# compare results of DS-FDR and BH method\n",
    "ds = np.sum(results1[0])\n",
    "bh = np.sum(results2[0])\n",
    "print(ds, bh, ds-bh, (ds-bh)/bh*100)"
   ]
  },
  {
   "cell_type": "code",
   "execution_count": null,
   "metadata": {
    "collapsed": true
   },
   "outputs": [],
   "source": []
  }
 ],
 "metadata": {
  "kernelspec": {
   "display_name": "Python 3",
   "language": "python",
   "name": "python3"
  },
  "language_info": {
   "codemirror_mode": {
    "name": "ipython",
    "version": 3
   },
   "file_extension": ".py",
   "mimetype": "text/x-python",
   "name": "python",
   "nbconvert_exporter": "python",
   "pygments_lexer": "ipython3",
   "version": "3.5.3"
  }
 },
 "nbformat": 4,
 "nbformat_minor": 2
}
