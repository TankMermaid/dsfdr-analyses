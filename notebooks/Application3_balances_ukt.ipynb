{
 "cells": [
  {
   "cell_type": "markdown",
   "metadata": {},
   "source": [
    "This notebook is apply balances with DS-FDR to rarefied UKT dataset"
   ]
  },
  {
   "cell_type": "code",
   "execution_count": 10,
   "metadata": {
    "collapsed": true
   },
   "outputs": [],
   "source": [
    "import pandas as pd\n",
    "import numpy as np\n",
    "import scipy as sp\n",
    "from skbio.stats import subsample_counts\n",
    "from biom import load_table\n",
    "from gneiss.cluster import correlation_linkage\n",
    "from gneiss.util import rename_internal_nodes, match\n",
    "from gneiss.balances import balance_basis\n",
    "from skbio.stats.composition import ilr\n",
    "import skbio\n",
    "import qiime2\n",
    "\n",
    "import dsfdr\n",
    "import statistics\n",
    "import transform\n",
    "\n",
    "%matplotlib notebook\n",
    "import matplotlib.pyplot as plt\n",
    "import pylab"
   ]
  },
  {
   "cell_type": "code",
   "execution_count": 4,
   "metadata": {
    "collapsed": true
   },
   "outputs": [],
   "source": [
    "def convert_biom_to_pandas(table):\n",
    "    otu_table = pd.DataFrame(np.array(table.matrix_data.todense()).T,\n",
    "                             index=table.ids(axis='sample'),\n",
    "                             columns=table.ids(axis='observation'))\n",
    "    return otu_table"
   ]
  },
  {
   "cell_type": "code",
   "execution_count": 5,
   "metadata": {
    "collapsed": true
   },
   "outputs": [],
   "source": [
    "# read in biom table\n",
    "table = load_table('../data/uk_twins_otu.biom')\n",
    "otu_table = convert_biom_to_pandas(table)"
   ]
  },
  {
   "cell_type": "code",
   "execution_count": 6,
   "metadata": {},
   "outputs": [
    {
     "data": {
      "text/plain": [
       "(1024, 8480)"
      ]
     },
     "execution_count": 6,
     "metadata": {},
     "output_type": "execute_result"
    }
   ],
   "source": [
    "otu_table.shape"
   ]
  },
  {
   "cell_type": "code",
   "execution_count": 13,
   "metadata": {},
   "outputs": [
    {
     "data": {
      "text/plain": [
       "DescribeResult(nobs=1024, minmax=(1, 221590), mean=67951.91015625, variance=433539807.02417827, skewness=1.3979147276026986, kurtosis=8.172578670623487)"
      ]
     },
     "execution_count": 13,
     "metadata": {},
     "output_type": "execute_result"
    }
   ],
   "source": [
    "# rarefy\n",
    "otu_table2 = np.array(otu_table).astype(int)\n",
    "otu_sum = np.sum(otu_table2, axis=1)\n",
    "sp.stats.describe(otu_sum)"
   ]
  },
  {
   "cell_type": "code",
   "execution_count": 21,
   "metadata": {},
   "outputs": [
    {
     "data": {
      "text/plain": [
       "(1017, 8480)"
      ]
     },
     "execution_count": 21,
     "metadata": {},
     "output_type": "execute_result"
    }
   ],
   "source": [
    "labels = np.array(otu_sum >= 10000) # minmax = (1k, 10k)\n",
    "otu_table3 = otu_table2[labels==True, :]\n",
    "otu_table3.shape"
   ]
  },
  {
   "cell_type": "code",
   "execution_count": 22,
   "metadata": {
    "collapsed": true
   },
   "outputs": [],
   "source": [
    "otu_table_r = np.zeros(np.shape(otu_table3))\n",
    "for i in range(np.shape(otu_table3)[0]):\n",
    "    col_r = subsample_counts(otu_table3[i, :], 10000)\n",
    "    otu_table_r[i, :] = col_r"
   ]
  },
  {
   "cell_type": "code",
   "execution_count": 23,
   "metadata": {
    "collapsed": true
   },
   "outputs": [],
   "source": [
    "# generate the tree\n",
    "otu_table_r = pd.DataFrame(otu_table_r)\n",
    "otu_tree = correlation_linkage(otu_table_r + 1)\n",
    "\n",
    "basis, _ = balance_basis(otu_tree)\n",
    "balances = ilr(otu_table + 1, basis)"
   ]
  },
  {
   "cell_type": "code",
   "execution_count": 24,
   "metadata": {
    "collapsed": true
   },
   "outputs": [],
   "source": [
    "balance_ids = [n.name for n in otu_tree.levelorder() if not n.is_tip()]\n",
    "balances_df = pd.DataFrame(balances, index=otu_table.index, columns=balance_ids)"
   ]
  },
  {
   "cell_type": "code",
   "execution_count": 25,
   "metadata": {
    "collapsed": true
   },
   "outputs": [],
   "source": [
    "# read in mapping file\n",
    "mapping = pd.read_table(\"../data/uk_twins_map.txt\", sep='\\t', header=0, index_col=0)"
   ]
  },
  {
   "cell_type": "code",
   "execution_count": 26,
   "metadata": {},
   "outputs": [
    {
     "data": {
      "text/plain": [
       "Lean     294\n",
       "Obese    117\n",
       "Name: bmi_cat, dtype: int64"
      ]
     },
     "execution_count": 26,
     "metadata": {},
     "output_type": "execute_result"
    }
   ],
   "source": [
    "# choose intersted categories to compare with\n",
    "mapping['bmi_cat'].value_counts()"
   ]
  },
  {
   "cell_type": "code",
   "execution_count": 27,
   "metadata": {
    "collapsed": true
   },
   "outputs": [],
   "source": [
    "mapping, balances_df = match(mapping, balances_df)"
   ]
  },
  {
   "cell_type": "code",
   "execution_count": 28,
   "metadata": {
    "collapsed": true
   },
   "outputs": [],
   "source": [
    "# fix floating point error in balances output\n",
    "balances_df = np.array(balances_df)\n",
    "for col in range(np.shape(balances_df)[1]):\n",
    "    for row in range(np.shape(balances_df)[0]):\n",
    "        close = np.isclose(balances_df[row, col], balances_df[:, col])\n",
    "        balances_df[close, col] = balances_df[row, col] "
   ]
  },
  {
   "cell_type": "code",
   "execution_count": 29,
   "metadata": {
    "collapsed": true
   },
   "outputs": [],
   "source": [
    "balances_ukt = np.transpose(balances_df)\n",
    "labels_ukt = np.array((mapping['bmi_cat'] == 'Lean').astype(int))"
   ]
  },
  {
   "cell_type": "code",
   "execution_count": 30,
   "metadata": {},
   "outputs": [
    {
     "name": "stdout",
     "output_type": "stream",
     "text": [
      "(8479, 390)\n",
      "(390,)\n"
     ]
    }
   ],
   "source": [
    "print(balances_ukt.shape)\n",
    "print(labels_ukt.shape)"
   ]
  },
  {
   "cell_type": "code",
   "execution_count": 45,
   "metadata": {
    "collapsed": true
   },
   "outputs": [],
   "source": [
    "# apply FDR methods to balances\n",
    "results1 = dsfdr.dsfdr(data = balances_ukt, labels = labels_ukt, fdr_method='dsfdr')\n",
    "results2 = dsfdr.dsfdr(data = balances_ukt, labels = labels_ukt, fdr_method='bhfdr')"
   ]
  },
  {
   "cell_type": "code",
   "execution_count": 46,
   "metadata": {},
   "outputs": [
    {
     "name": "stdout",
     "output_type": "stream",
     "text": [
      "582 450 132 29.3333333333\n"
     ]
    }
   ],
   "source": [
    "# compare results of DS-FDR and BH method\n",
    "ds = np.sum(results1[0])\n",
    "bh = np.sum(results2[0])\n",
    "print(ds, bh, ds-bh, (ds-bh)/bh*100)"
   ]
  }
 ],
 "metadata": {
  "kernelspec": {
   "display_name": "Python 3",
   "language": "python",
   "name": "python3"
  },
  "language_info": {
   "codemirror_mode": {
    "name": "ipython",
    "version": 3
   },
   "file_extension": ".py",
   "mimetype": "text/x-python",
   "name": "python",
   "nbconvert_exporter": "python",
   "pygments_lexer": "ipython3",
   "version": "3.5.3"
  }
 },
 "nbformat": 4,
 "nbformat_minor": 2
}
