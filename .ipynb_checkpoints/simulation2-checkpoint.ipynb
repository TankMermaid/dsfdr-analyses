{
 "cells": [
  {
   "cell_type": "code",
   "execution_count": 1,
   "metadata": {
    "collapsed": true
   },
   "outputs": [],
   "source": [
    "# simulation2 (consider compositionality)\n",
    "import numpy as np\n",
    "import pandas as pd\n",
    "import scipy as sp\n",
    "import scipy.stats\n",
    "\n",
    "%load_ext autoreload\n",
    "%autoreload 2"
   ]
  },
  {
   "cell_type": "code",
   "execution_count": 2,
   "metadata": {
    "collapsed": true
   },
   "outputs": [],
   "source": [
    "import TSfdr\n",
    "import BHYfdr\n",
    "import simulate"
   ]
  },
  {
   "cell_type": "code",
   "execution_count": null,
   "metadata": {
    "collapsed": true
   },
   "outputs": [],
   "source": [
    "# use simulatemix function"
   ]
  },
  {
   "cell_type": "code",
   "execution_count": 3,
   "metadata": {
    "collapsed": false
   },
   "outputs": [
    {
     "name": "stderr",
     "output_type": "stream",
     "text": [
      "//anaconda/envs/python3/lib/python3.5/site-packages/ipykernel/__main__.py:13: RuntimeWarning: invalid value encountered in long_scalars\n"
     ]
    },
    {
     "name": "stdout",
     "output_type": "stream",
     "text": [
      "sample size: 4\\ rejections: 0.0\n",
      "sample size: 4\\ FDR: nan\n"
     ]
    },
    {
     "name": "stderr",
     "output_type": "stream",
     "text": [
      "//anaconda/envs/python3/lib/python3.5/site-packages/numpy/lib/nanfunctions.py:703: RuntimeWarning: Mean of empty slice\n",
      "  warnings.warn(\"Mean of empty slice\", RuntimeWarning)\n",
      "//anaconda/envs/python3/lib/python3.5/site-packages/ipykernel/__main__.py:13: RuntimeWarning: invalid value encountered in long_scalars\n"
     ]
    },
    {
     "name": "stdout",
     "output_type": "stream",
     "text": [
      "sample size: 5\\ rejections: 0.38\n",
      "sample size: 5\\ FDR: 0.025\n"
     ]
    },
    {
     "name": "stderr",
     "output_type": "stream",
     "text": [
      "//anaconda/envs/python3/lib/python3.5/site-packages/ipykernel/__main__.py:13: RuntimeWarning: invalid value encountered in long_scalars\n"
     ]
    },
    {
     "name": "stdout",
     "output_type": "stream",
     "text": [
      "sample size: 6\\ rejections: 7.37666666667\n",
      "sample size: 6\\ FDR: 0.0127060056474\n"
     ]
    },
    {
     "name": "stderr",
     "output_type": "stream",
     "text": [
      "//anaconda/envs/python3/lib/python3.5/site-packages/ipykernel/__main__.py:13: RuntimeWarning: invalid value encountered in long_scalars\n"
     ]
    },
    {
     "name": "stdout",
     "output_type": "stream",
     "text": [
      "sample size: 7\\ rejections: 14.18\n",
      "sample size: 7\\ FDR: 0.00933487278752\n",
      "sample size: 8\\ rejections: 19.082\n",
      "sample size: 8\\ FDR: 0.009989101771\n",
      "sample size: 9\\ rejections: 22.47\n",
      "sample size: 9\\ FDR: 0.00996181377073\n",
      "sample size: 10\\ rejections: 25.0442857143\n",
      "sample size: 10\\ FDR: 0.0107140645468\n",
      "sample size: 15\\ rejections: 27.36125\n",
      "sample size: 15\\ FDR: 0.0115871257217\n",
      "sample size: 20\\ rejections: 29.4088888889\n",
      "sample size: 20\\ FDR: 0.0134965828317\n",
      "sample size: 30\\ rejections: 31.326\n",
      "sample size: 30\\ FDR: 0.016288340377\n",
      "sample size: 40\\ rejections: 33.0690909091\n",
      "sample size: 40\\ FDR: 0.0198246648599\n",
      "sample size: 50\\ rejections: 35.0375\n",
      "sample size: 50\\ FDR: 0.0251125992259\n",
      "sample size: 100\\ rejections: 37.6692307692\n",
      "sample size: 100\\ FDR: 0.0339533799496\n"
     ]
    }
   ],
   "source": [
    "# BH FDR\n",
    "ss = [4, 5, 6, 7, 8, 9, 10, 15, 20, 30, 40, 50, 100]\n",
    "B = 100\n",
    "fdr = []\n",
    "sig = []\n",
    "for j in ss:\n",
    "    for i in range(B):\n",
    "        data,labels=simulate.simulatemix(noise=0, numc=100, numd=800,numsamples= j)\n",
    "        rej=BHYfdr.BHfdr(data,labels,transform = 'rankdata', method = 'meandiff',alpha=0.1,numperm=1000)\n",
    "        v = np.sum(np.where(rej)[0]>=100)\n",
    "        r = np.sum(rej)\n",
    "        sig.append(r)\n",
    "        fdr.append(v/r)\n",
    "    print('sample size: %s\\ rejections: %s' %(j, np.mean(sig)))\n",
    "    print('sample size: %s\\ FDR: %s' %(j, np.nanmean(fdr)))"
   ]
  },
  {
   "cell_type": "code",
   "execution_count": 4,
   "metadata": {
    "collapsed": false
   },
   "outputs": [
    {
     "name": "stderr",
     "output_type": "stream",
     "text": [
      "//anaconda/envs/python3/lib/python3.5/site-packages/ipykernel/__main__.py:14: RuntimeWarning: invalid value encountered in long_scalars\n"
     ]
    },
    {
     "name": "stdout",
     "output_type": "stream",
     "text": [
      "sample size: 4\\ rejections: 12.4\n",
      "sample size: 4\\ FDR: 0.140169474051\n",
      "sample size: 5\\ rejections: 26.67\n",
      "sample size: 5\\ FDR: 0.0698279386369\n",
      "sample size: 6\\ rejections: 31.9233333333\n",
      "sample size: 6\\ FDR: 0.0689189168063\n",
      "sample size: 7\\ rejections: 34.925\n",
      "sample size: 7\\ FDR: 0.0675542122632\n",
      "sample size: 8\\ rejections: 37.082\n",
      "sample size: 8\\ FDR: 0.0679728373164\n",
      "sample size: 9\\ rejections: 38.6116666667\n",
      "sample size: 9\\ FDR: 0.065520193484\n",
      "sample size: 10\\ rejections: 39.8485714286\n",
      "sample size: 10\\ FDR: 0.0650780963141\n",
      "sample size: 15\\ rejections: 41.3475\n",
      "sample size: 15\\ FDR: 0.0666401439723\n",
      "sample size: 20\\ rejections: 42.6466666667\n",
      "sample size: 20\\ FDR: 0.0692390719345\n",
      "sample size: 30\\ rejections: 44.223\n",
      "sample size: 30\\ FDR: 0.072888105011\n",
      "sample size: 40\\ rejections: 45.7745454545\n",
      "sample size: 40\\ FDR: 0.0772412804891\n",
      "sample size: 50\\ rejections: 47.6283333333\n",
      "sample size: 50\\ FDR: 0.0827780753528\n",
      "sample size: 100\\ rejections: 50.1530769231\n",
      "sample size: 100\\ FDR: 0.0905688369622\n"
     ]
    }
   ],
   "source": [
    "# PB method \n",
    "ss = [4, 5, 6, 7, 8, 9, 10, 15, 20, 30, 40, 50, 100]\n",
    "B = 100\n",
    "fdr = []\n",
    "sig = []\n",
    "for j in ss:\n",
    "    for i in range(B):\n",
    "        data,labels=simulate.simulatemix(noise=0, numc=100, numd=800,numsamples= j)\n",
    "        rej=TSfdr.pfdr(data,labels,transform = 'rankdata', method = 'meandiff', alpha=0.1,numperm=1000)\n",
    "        v = np.sum(np.where(rej)[0]>=100)\n",
    "        r = np.sum(rej)\n",
    "\n",
    "        sig.append(r)\n",
    "        fdr.append(v/r) \n",
    "    print('sample size: %s\\ rejections: %s' %(j, np.mean(sig)))\n",
    "    print('sample size: %s\\ FDR: %s' %(j, np.nanmean(fdr)))"
   ]
  },
  {
   "cell_type": "code",
   "execution_count": null,
   "metadata": {
    "collapsed": true
   },
   "outputs": [],
   "source": [
    "# use simulatemix function"
   ]
  },
  {
   "cell_type": "code",
   "execution_count": 7,
   "metadata": {
    "collapsed": false
   },
   "outputs": [
    {
     "name": "stderr",
     "output_type": "stream",
     "text": [
      "//anaconda/envs/python3/lib/python3.5/site-packages/ipykernel/__main__.py:13: RuntimeWarning: invalid value encountered in long_scalars\n"
     ]
    },
    {
     "name": "stdout",
     "output_type": "stream",
     "text": [
      "sample size: 4\\ rejections: 0.0\n",
      "sample size: 4\\ FDR: nan\n"
     ]
    },
    {
     "name": "stderr",
     "output_type": "stream",
     "text": [
      "//anaconda/envs/python3/lib/python3.5/site-packages/numpy/lib/nanfunctions.py:703: RuntimeWarning: Mean of empty slice\n",
      "  warnings.warn(\"Mean of empty slice\", RuntimeWarning)\n",
      "//anaconda/envs/python3/lib/python3.5/site-packages/ipykernel/__main__.py:13: RuntimeWarning: invalid value encountered in long_scalars\n"
     ]
    },
    {
     "name": "stdout",
     "output_type": "stream",
     "text": [
      "sample size: 5\\ rejections: 3.215\n",
      "sample size: 5\\ FDR: 0.0365860833937\n"
     ]
    },
    {
     "name": "stderr",
     "output_type": "stream",
     "text": [
      "//anaconda/envs/python3/lib/python3.5/site-packages/ipykernel/__main__.py:13: RuntimeWarning: invalid value encountered in long_scalars\n"
     ]
    },
    {
     "name": "stdout",
     "output_type": "stream",
     "text": [
      "sample size: 6\\ rejections: 19.59\n",
      "sample size: 6\\ FDR: 0.0117739621411\n"
     ]
    },
    {
     "name": "stderr",
     "output_type": "stream",
     "text": [
      "//anaconda/envs/python3/lib/python3.5/site-packages/ipykernel/__main__.py:13: RuntimeWarning: invalid value encountered in long_scalars\n"
     ]
    },
    {
     "name": "stdout",
     "output_type": "stream",
     "text": [
      "sample size: 7\\ rejections: 29.9375\n",
      "sample size: 7\\ FDR: 0.010077822432\n",
      "sample size: 8\\ rejections: 37.098\n",
      "sample size: 8\\ FDR: 0.0102840190106\n",
      "sample size: 9\\ rejections: 42.3383333333\n",
      "sample size: 9\\ FDR: 0.0101742738327\n",
      "sample size: 10\\ rejections: 46.5\n",
      "sample size: 10\\ FDR: 0.00997772406405\n",
      "sample size: 15\\ rejections: 50.4075\n",
      "sample size: 15\\ FDR: 0.0107105122184\n",
      "sample size: 20\\ rejections: 53.8911111111\n",
      "sample size: 20\\ FDR: 0.0119300360124\n",
      "sample size: 30\\ rejections: 57.081\n",
      "sample size: 30\\ FDR: 0.0129802942486\n",
      "sample size: 40\\ rejections: 59.9854545455\n",
      "sample size: 40\\ FDR: 0.0150875968326\n",
      "sample size: 50\\ rejections: 62.6791666667\n",
      "sample size: 50\\ FDR: 0.0179385890783\n",
      "sample size: 100\\ rejections: 65.7884615385\n",
      "sample size: 100\\ FDR: 0.0248297704963\n"
     ]
    }
   ],
   "source": [
    "# BH FDR\n",
    "ss = [4, 5, 6, 7, 8, 9, 10, 15, 20, 30, 40, 50, 100]\n",
    "B = 100\n",
    "fdr = []\n",
    "sig = []\n",
    "for j in ss:\n",
    "    for i in range(B):\n",
    "        data,labels=simulate.simulatemix2(sigma=0.1, numc=100, numd=800,numsamples= j)\n",
    "        rej=BHYfdr.BHfdr(data,labels,transform = 'rankdata', method = 'meandiff',alpha=0.1,numperm=1000)\n",
    "        v = np.sum(np.where(rej)[0]>=100)\n",
    "        r = np.sum(rej)\n",
    "        sig.append(r)\n",
    "        fdr.append(v/r)\n",
    "    print('sample size: %s\\ rejections: %s' %(j, np.mean(sig)))\n",
    "    print('sample size: %s\\ FDR: %s' %(j, np.nanmean(fdr)))"
   ]
  },
  {
   "cell_type": "code",
   "execution_count": 8,
   "metadata": {
    "collapsed": false
   },
   "outputs": [
    {
     "name": "stderr",
     "output_type": "stream",
     "text": [
      "//anaconda/envs/python3/lib/python3.5/site-packages/ipykernel/__main__.py:14: RuntimeWarning: invalid value encountered in long_scalars\n"
     ]
    },
    {
     "name": "stdout",
     "output_type": "stream",
     "text": [
      "sample size: 4\\ rejections: 28.48\n",
      "sample size: 4\\ FDR: 0.144521050022\n",
      "sample size: 5\\ rejections: 46.605\n",
      "sample size: 5\\ FDR: 0.0735517081869\n",
      "sample size: 6\\ rejections: 54.6866666667\n",
      "sample size: 6\\ FDR: 0.0686267403243\n",
      "sample size: 7\\ rejections: 59.67\n",
      "sample size: 7\\ FDR: 0.0662882245966\n",
      "sample size: 8\\ rejections: 63.66\n",
      "sample size: 8\\ FDR: 0.0673883498412\n",
      "sample size: 9\\ rejections: 65.9683333333\n",
      "sample size: 9\\ FDR: 0.0634171616242\n",
      "sample size: 10\\ rejections: 67.8071428571\n",
      "sample size: 10\\ FDR: 0.060180289577\n",
      "sample size: 15\\ rejections: 70.135\n",
      "sample size: 15\\ FDR: 0.0592542635953\n",
      "sample size: 20\\ rejections: 72.3077777778\n",
      "sample size: 20\\ FDR: 0.0596923722399\n",
      "sample size: 30\\ rejections: 74.556\n",
      "sample size: 30\\ FDR: 0.0622988972284\n",
      "sample size: 40\\ rejections: 76.8209090909\n",
      "sample size: 40\\ FDR: 0.06588918525\n",
      "sample size: 50\\ rejections: 79.0741666667\n",
      "sample size: 50\\ FDR: 0.0703216086797\n",
      "sample size: 100\\ rejections: 81.7815384615\n",
      "sample size: 100\\ FDR: 0.0779296562975\n"
     ]
    }
   ],
   "source": [
    "# PB method \n",
    "ss = [4, 5, 6, 7, 8, 9, 10, 15, 20, 30, 40, 50, 100]\n",
    "B = 100\n",
    "fdr = []\n",
    "sig = []\n",
    "for j in ss:\n",
    "    for i in range(B):\n",
    "        data,labels=simulate.simulatemix2(sigma=0.1, numc=100, numd=800,numsamples= j)\n",
    "        rej=TSfdr.pfdr(data,labels,transform = 'rankdata', method = 'meandiff', alpha=0.1,numperm=1000)\n",
    "        v = np.sum(np.where(rej)[0]>=100)\n",
    "        r = np.sum(rej)\n",
    "\n",
    "        sig.append(r)\n",
    "        fdr.append(v/r) \n",
    "    print('sample size: %s\\ rejections: %s' %(j, np.mean(sig)))\n",
    "    print('sample size: %s\\ FDR: %s' %(j, np.nanmean(fdr)))"
   ]
  },
  {
   "cell_type": "code",
   "execution_count": null,
   "metadata": {
    "collapsed": true
   },
   "outputs": [],
   "source": []
  },
  {
   "cell_type": "code",
   "execution_count": null,
   "metadata": {
    "collapsed": true
   },
   "outputs": [],
   "source": []
  }
 ],
 "metadata": {
  "anaconda-cloud": {},
  "kernelspec": {
   "display_name": "Python [python3]",
   "language": "python",
   "name": "Python [python3]"
  },
  "language_info": {
   "codemirror_mode": {
    "name": "ipython",
    "version": 3
   },
   "file_extension": ".py",
   "mimetype": "text/x-python",
   "name": "python",
   "nbconvert_exporter": "python",
   "pygments_lexer": "ipython3",
   "version": "3.5.2"
  }
 },
 "nbformat": 4,
 "nbformat_minor": 0
}
